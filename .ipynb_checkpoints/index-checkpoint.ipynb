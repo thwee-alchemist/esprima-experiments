{
 "cells": [
  {
   "cell_type": "markdown",
   "metadata": {},
   "source": [
    "Save the following as index.js."
   ]
  },
  {
   "cell_type": "code",
   "execution_count": 5,
   "metadata": {},
   "outputs": [
    {
     "name": "stdout",
     "output_type": "stream",
     "text": [
      "server listening at http://localhost:36266\n"
     ]
    }
   ],
   "source": [
    "\n",
    "var esprima = require('esprima');\n",
    "var fs = require('fs');\n",
    "\n",
    "var SIZE = 10;\n",
    "\n",
    "var program = fs.readFileSync('./index.js').toString();\n",
    "\n",
    "require('fourdsocketproxy')({port: 16100}).then(fourd => {\n",
    "  \n",
    "  fourd.vertex = fourd.add_vertex;\n",
    "  fourd.edge = fourd.add_edge;\n",
    "  \n",
    "  var previous, current = fourd.vertex({label: {text: 'root: /'}});\n",
    "  var stack = [current];\n",
    "  function traverse(obj) {\n",
    "    previous = stack.pop();\n",
    "    current = fourd.vertex({cube: {size: SIZE, color: 0x000000}});\n",
    "    fourd.edge(previous, current);\n",
    "    \n",
    "    if(typeof jonObj == \"object\") {\n",
    "      for(var key in obj){\n",
    "        var value = jsobObj[key];\n",
    "        // key is either an array index or object key\n",
    "        \n",
    "        previous = current !== null ? current : fourd.vertex({label: {text: '/'}});\n",
    "        current = fourd.vertex({cube: {size: SIZE, color: 0x000000}});\n",
    "        fourd.edge(previous, current);\n",
    "        \n",
    "        fourd.add_edge(current, traverse(value));\n",
    "      }\n",
    "    }\n",
    "    else if(typeof jsonObj == 'string'){\n",
    "      for(var i=0; i<jsonObj.length; i++){\n",
    "        previous = current;\n",
    "        current = fourd.vertex({label: {text: value}});\n",
    "        fourd.edge(previous, current);\n",
    "        \n",
    "        traverse(jsonObj[i]);\n",
    "      }\n",
    "    } else {\n",
    "      // jsonObj is a number or strin\n",
    "      previous = current; // the first object is the syntax object.\n",
    "      current = fourd.vertex({label: {text: value}});\n",
    "      fourd.edge(previous, current);\n",
    "    };\n",
    "    \n",
    "    return current;\n",
    "  }\n",
    "  \n",
    "  fourd.clear();\n",
    "  \n",
    "  fourd.on('click', function(info){\n",
    "    console.log(info);\n",
    "  });\n",
    "  \n",
    "  var syntax = esprima.parse(program, {}, traverse);\n",
    "  traverse(syntax);\n",
    "});"
   ]
  },
  {
   "cell_type": "markdown",
   "metadata": {},
   "source": [
    "Goddammit, I'm trying to write a tree. "
   ]
  }
 ],
 "metadata": {
  "kernelspec": {
   "display_name": "Javascript (Node.js)",
   "language": "javascript",
   "name": "javascript"
  },
  "language_info": {
   "file_extension": ".js",
   "mimetype": "application/javascript",
   "name": "javascript",
   "version": "6.14.3"
  }
 },
 "nbformat": 4,
 "nbformat_minor": 2
}
