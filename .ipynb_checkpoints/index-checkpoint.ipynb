{
 "cells": [
  {
   "cell_type": "markdown",
   "metadata": {},
   "source": [
    "Save the following as index.js."
   ]
  },
  {
   "cell_type": "code",
   "execution_count": 8,
   "metadata": {},
   "outputs": [],
   "source": [
    "var esprima = require('esprima');\n",
    "var fs = require('fs');\n",
    "var readline = require('readline');\n",
    "  \n",
    "var program = fs.readFileSync('./index.js');\n",
    "var syntax = esprima.parse(program);\n",
    "console.log(syntax);"
   ]
  },
  {
   "cell_type": "code",
   "execution_count": null,
   "metadata": {},
   "outputs": [],
   "source": []
  },
  {
   "cell_type": "code",
   "execution_count": null,
   "metadata": {},
   "outputs": [],
   "source": []
  }
 ],
 "metadata": {
  "kernelspec": {
   "display_name": "Javascript (Node.js)",
   "language": "javascript",
   "name": "javascript"
  },
  "language_info": {
   "file_extension": ".js",
   "mimetype": "application/javascript",
   "name": "javascript",
   "version": "6.14.3"
  }
 },
 "nbformat": 4,
 "nbformat_minor": 2
}
